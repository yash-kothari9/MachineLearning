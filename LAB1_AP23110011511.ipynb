{
  "cells": [
    {
      "cell_type": "markdown",
      "id": "20dc80e4",
      "metadata": {
        "id": "20dc80e4"
      },
      "source": [
        "# 🧑‍💻 NumPy Complete Guided Project\n",
        "**Instructor / Student Colab Notebook** – covers *all* key concepts from `Numpy‑1` to `Numpy‑5`.\n",
        "\n",
        "*Generated: 08 Aug 2025*"
      ]
    },
    {
      "cell_type": "markdown",
      "id": "e8b8b6cf",
      "metadata": {
        "id": "e8b8b6cf"
      },
      "source": [
        "\n",
        "**Table of Contents**\n",
        "\n",
        "1. [Setup](#setup)  \n",
        "2. [Array Creation & Dtypes](#creation)  \n",
        "3. [Array Attributes & Inspection](#attributes)  \n",
        "4. [Indexing, Slicing, Fancy Indexing](#indexing)  \n",
        "5. [Reshaping, Transpose & Copies vs Views](#reshape)  \n",
        "6. [Joining, Splitting, Set & Sorting Ops](#join)  \n",
        "7. [Arithmetic Ops, Universal Functions](#arithmetic)  \n",
        "8. [Broadcasting (Rules + Examples)](#broadcast)  \n",
        "9. [Statistics & Aggregations](#stats)  \n",
        "10. [Random Numbers & Reproducibility](#random)  \n",
        "11. [Structured / Recarrays](#structured)  \n",
        "12. [Linear Algebra Essentials](#linalg)  \n",
        "13. [File I/O (`npy`, `npz`, `txt`)](#io)  \n",
        "14. [Datetime64 & Timedelta64](#datetime)  \n",
        "15. [Masked Arrays & NaNs](#mask)  \n",
        "16. [Mini‑Project — Fitness Data Analysis](#project)  \n",
        "17. [Conclusion & Next Steps](#conclusion)  \n"
      ]
    },
    {
      "cell_type": "markdown",
      "id": "9170f3ee",
      "metadata": {
        "id": "9170f3ee"
      },
      "source": [
        "## <a name='setup'></a>1️⃣ Setup"
      ]
    },
    {
      "cell_type": "code",
      "execution_count": 126,
      "id": "4f54988f",
      "metadata": {
        "colab": {
          "base_uri": "https://localhost:8080/"
        },
        "id": "4f54988f",
        "outputId": "24da87ac-0be4-44db-eb45-bf6b8fede908"
      },
      "outputs": [
        {
          "output_type": "stream",
          "name": "stdout",
          "text": [
            "NumPy version: 2.0.2\n"
          ]
        }
      ],
      "source": [
        "import numpy as np, math, os, pathlib, types, textwrap, random\n",
        "print('NumPy version:', np.__version__)"
      ]
    },
    {
      "cell_type": "markdown",
      "id": "c7f7b2c8",
      "metadata": {
        "id": "c7f7b2c8"
      },
      "source": [
        "## <a name='creation'></a>2️⃣ Array Creation & Dtypes"
      ]
    },
    {
      "cell_type": "markdown",
      "id": "47405152",
      "metadata": {
        "id": "47405152"
      },
      "source": [
        "Key functions: `np.array`, `np.arange`, `np.linspace`, `zeros`, `ones`, `full`, `eye`, `identity`, `diag`, `empty`"
      ]
    },
    {
      "cell_type": "code",
      "execution_count": 127,
      "id": "801e99ad",
      "metadata": {
        "colab": {
          "base_uri": "https://localhost:8080/"
        },
        "id": "801e99ad",
        "outputId": "249b8848-0a3d-44ce-b56c-4a7ddd21411d"
      },
      "outputs": [
        {
          "output_type": "stream",
          "name": "stdout",
          "text": [
            "[1 2 3]\n",
            "[0.  0.2 0.4 0.6 0.8 1. ]\n",
            "[[7.5 7.5 7.5]\n",
            " [7.5 7.5 7.5]]\n",
            "dtypes: int32 float64\n"
          ]
        }
      ],
      "source": [
        "# EXAMPLE\n",
        "arr1 = np.array([1, 2, 3], dtype=np.int32)\n",
        "arr2 = np.linspace(0, 1, 6)\n",
        "arr3 = np.full((2,3), 7.5)\n",
        "print(arr1, arr2, arr3, sep=\"\\n\")\n",
        "print(\"dtypes:\", arr1.dtype, arr2.dtype)\n"
      ]
    },
    {
      "cell_type": "code",
      "execution_count": 128,
      "id": "dc63d076",
      "metadata": {
        "colab": {
          "base_uri": "https://localhost:8080/"
        },
        "id": "dc63d076",
        "outputId": "fb320311-72c5-4f3a-fdb2-196bf0f7218c"
      },
      "outputs": [
        {
          "output_type": "stream",
          "name": "stdout",
          "text": [
            "10x10 Chessboard:\n",
            " [[0 1 0 1 0 1 0 1 0 1]\n",
            " [1 0 1 0 1 0 1 0 1 0]\n",
            " [0 1 0 1 0 1 0 1 0 1]\n",
            " [1 0 1 0 1 0 1 0 1 0]\n",
            " [0 1 0 1 0 1 0 1 0 1]\n",
            " [1 0 1 0 1 0 1 0 1 0]\n",
            " [0 1 0 1 0 1 0 1 0 1]\n",
            " [1 0 1 0 1 0 1 0 1 0]\n",
            " [0 1 0 1 0 1 0 1 0 1]\n",
            " [1 0 1 0 1 0 1 0 1 0]]\n"
          ]
        }
      ],
      "source": [
        "# 🖊️ TODO: create a 10×10 chessboard pattern using zeros & ones\n",
        "chessboard = np.zeros((10,10), dtype=int)\n",
        "chessboard[1::2, ::2] = 1\n",
        "chessboard[::2, 1::2] = 1\n",
        "print(\"10x10 Chessboard:\\n\", chessboard)\n"
      ]
    },
    {
      "cell_type": "markdown",
      "id": "925be762",
      "metadata": {
        "id": "925be762"
      },
      "source": [
        "## <a name='attributes'></a>3️⃣ Array Attributes & Inspection"
      ]
    },
    {
      "cell_type": "markdown",
      "id": "f103bb36",
      "metadata": {
        "id": "f103bb36"
      },
      "source": [
        "`shape`, `ndim`, `size`, `dtype`, `itemsize`, `nbytes`"
      ]
    },
    {
      "cell_type": "code",
      "execution_count": 129,
      "id": "ad3eeda1",
      "metadata": {
        "colab": {
          "base_uri": "https://localhost:8080/"
        },
        "id": "ad3eeda1",
        "outputId": "b7c8d182-3af4-4997-e5dd-0f5ff875d046"
      },
      "outputs": [
        {
          "output_type": "stream",
          "name": "stdout",
          "text": [
            "shape (3, 4) ndim 2 size 12 itemsize 8 total bytes 96\n"
          ]
        }
      ],
      "source": [
        "M = np.arange(12).reshape(3,4)\n",
        "print('shape', M.shape, 'ndim', M.ndim, 'size', M.size, 'itemsize', M.itemsize, 'total bytes', M.nbytes)\n"
      ]
    },
    {
      "cell_type": "code",
      "execution_count": 130,
      "id": "5875fefe",
      "metadata": {
        "colab": {
          "base_uri": "https://localhost:8080/"
        },
        "id": "5875fefe",
        "outputId": "dd581beb-5c25-4959-9e48-ff0791b78208"
      },
      "outputs": [
        {
          "output_type": "stream",
          "name": "stdout",
          "text": [
            "Memory footprint (bytes): 8000000\n"
          ]
        }
      ],
      "source": [
        "# 🖊️ TODO: check memory footprint of a 1000×1000 float64 array\n",
        "arr_large = np.zeros((1000,1000), dtype=np.float64)\n",
        "print(\"Memory footprint (bytes):\", arr_large.nbytes)\n"
      ]
    },
    {
      "cell_type": "markdown",
      "id": "bd895660",
      "metadata": {
        "id": "bd895660"
      },
      "source": [
        "## <a name='indexing'></a>4️⃣ Indexing, Slicing & Fancy Indexing"
      ]
    },
    {
      "cell_type": "code",
      "execution_count": 131,
      "id": "5dc7d4c1",
      "metadata": {
        "colab": {
          "base_uri": "https://localhost:8080/"
        },
        "id": "5dc7d4c1",
        "outputId": "5c130847-34ad-450d-8e27-aabb95c888c7"
      },
      "outputs": [
        {
          "output_type": "stream",
          "name": "stdout",
          "text": [
            "[ 1  6 11 16 21]\n",
            "[[ 1  3  5]\n",
            " [11 13 15]\n",
            " [21 23 25]]\n",
            "multiples of 3: [ 3  6  9 12 15 18 21 24]\n"
          ]
        }
      ],
      "source": [
        "a = np.arange(1,26).reshape(5,5)\n",
        "print(a[:, 0])     # first column\n",
        "print(a[::2, ::2]) # every 2nd row/col\n",
        "mask = (a % 3 == 0)\n",
        "print('multiples of 3:', a[mask])\n"
      ]
    },
    {
      "cell_type": "code",
      "execution_count": 132,
      "id": "9c4bd5f4",
      "metadata": {
        "colab": {
          "base_uri": "https://localhost:8080/"
        },
        "id": "9c4bd5f4",
        "outputId": "4c8379f7-1513-45e9-8f20-a29fca56092f"
      },
      "outputs": [
        {
          "output_type": "stream",
          "name": "stdout",
          "text": [
            "After swapping first and last rows:\n",
            " [[21 22 23 24 25]\n",
            " [ 6  7  8  9 10]\n",
            " [11 12 13 14 15]\n",
            " [16 17 18 19 20]\n",
            " [ 1  2  3  4  5]]\n"
          ]
        }
      ],
      "source": [
        "# 🖊️ TODO: use fancy indexing to swap first and last rows of `a`\n",
        "a[[0, -1]] = a[[-1, 0]]\n",
        "print(\"After swapping first and last rows:\\n\", a)\n"
      ]
    },
    {
      "cell_type": "markdown",
      "id": "8f4de1d5",
      "metadata": {
        "id": "8f4de1d5"
      },
      "source": [
        "## <a name='reshape'></a>5️⃣ Reshaping, Transpose & Copies vs Views"
      ]
    },
    {
      "cell_type": "code",
      "execution_count": 133,
      "id": "053b4ff4",
      "metadata": {
        "colab": {
          "base_uri": "https://localhost:8080/"
        },
        "id": "053b4ff4",
        "outputId": "0905d7ef-fe3a-4990-969a-570ace7e4d77"
      },
      "outputs": [
        {
          "output_type": "stream",
          "name": "stdout",
          "text": [
            "b is modified: [99  1  2  3  4  5  6  7]\n",
            "b unchanged with copy: [99  1  2  3  4  5  6  7]\n"
          ]
        }
      ],
      "source": [
        "b = np.arange(8)\n",
        "B = b.reshape(2,4)\n",
        "B[0,0] = 99\n",
        "print('b is modified:', b)\n",
        "C = b.reshape(2,4).copy()\n",
        "C[0,0] = -1\n",
        "print('b unchanged with copy:', b)\n"
      ]
    },
    {
      "cell_type": "code",
      "execution_count": 134,
      "id": "a3e599bd",
      "metadata": {
        "colab": {
          "base_uri": "https://localhost:8080/"
        },
        "id": "a3e599bd",
        "outputId": "15984bbd-1c4a-4c19-a7f8-abba7708328a"
      },
      "outputs": [
        {
          "output_type": "stream",
          "name": "stdout",
          "text": [
            "After change — ravel view first element: 999\n",
            "After change — flatten copy first element: 0\n"
          ]
        }
      ],
      "source": [
        "# 🖊️ TODO: Flatten a 3‑D array into 1‑D using both `ravel` and `flatten`; observe copy vs view.\n",
        "arr3d = np.arange(24).reshape(2,3,4)\n",
        "ravel_view = arr3d.ravel()\n",
        "flatten_copy = arr3d.flatten()\n",
        "arr3d[0,0,0] = 999\n",
        "print(\"After change — ravel view first element:\", ravel_view[0])\n",
        "print(\"After change — flatten copy first element:\", flatten_copy[0])\n",
        "\n"
      ]
    },
    {
      "cell_type": "markdown",
      "id": "2390c4ae",
      "metadata": {
        "id": "2390c4ae"
      },
      "source": [
        "## <a name='join'></a>6️⃣ Joining, Splitting, Set & Sorting Ops"
      ]
    },
    {
      "cell_type": "code",
      "execution_count": 135,
      "id": "a53f640a",
      "metadata": {
        "colab": {
          "base_uri": "https://localhost:8080/"
        },
        "id": "a53f640a",
        "outputId": "5af25c89-a625-4229-e1aa-bed7006ae439"
      },
      "outputs": [
        {
          "output_type": "stream",
          "name": "stdout",
          "text": [
            "union [1 2 3 4 5 6]\n",
            "intersect [1 2]\n",
            "sorted descending [6 5 4 3 2 1]\n"
          ]
        }
      ],
      "source": [
        "x = np.array([1,3,5]); y = np.array([2,4,6])\n",
        "xy = np.concatenate([x,y])\n",
        "print('union', np.union1d(x,y))\n",
        "print('intersect', np.intersect1d(xy,[1,2,10]))\n",
        "print('sorted descending', np.sort(xy)[::-1])\n"
      ]
    },
    {
      "cell_type": "code",
      "execution_count": 136,
      "id": "4231e729",
      "metadata": {
        "colab": {
          "base_uri": "https://localhost:8080/"
        },
        "id": "4231e729",
        "outputId": "fea276d4-7d30-4571-cb39-a5227015f45e"
      },
      "outputs": [
        {
          "output_type": "stream",
          "name": "stdout",
          "text": [
            "First half: [1 3 5]\n",
            "Second half: [2 4 6]\n"
          ]
        }
      ],
      "source": [
        "# 🖊️ TODO: split `xy` back into two equal halves using `np.array_split`\n",
        "first_half, second_half = np.array_split(xy, 2)\n",
        "print(\"First half:\", first_half)\n",
        "print(\"Second half:\", second_half)\n"
      ]
    },
    {
      "cell_type": "markdown",
      "id": "e6ebeb68",
      "metadata": {
        "id": "e6ebeb68"
      },
      "source": [
        "## <a name='arithmetic'></a>7️⃣ Arithmetic Ops & Universal Functions"
      ]
    },
    {
      "cell_type": "code",
      "execution_count": 137,
      "id": "04a6eda9",
      "metadata": {
        "colab": {
          "base_uri": "https://localhost:8080/"
        },
        "id": "04a6eda9",
        "outputId": "03db08c2-728a-4742-ceff-87bca8493543"
      },
      "outputs": [
        {
          "output_type": "stream",
          "name": "stdout",
          "text": [
            "exp [ 1.          2.71828183  7.3890561  20.08553692 54.59815003]\n",
            "sin [ 0.          0.84147098  0.90929743  0.14112001 -0.7568025 ]\n",
            "vectorised addition [10 11 12 13 14]\n"
          ]
        }
      ],
      "source": [
        "v = np.arange(5)\n",
        "print('exp', np.exp(v))\n",
        "print('sin', np.sin(v))\n",
        "print('vectorised addition', v + 10)\n"
      ]
    },
    {
      "cell_type": "code",
      "execution_count": 138,
      "id": "c011f422",
      "metadata": {
        "colab": {
          "base_uri": "https://localhost:8080/"
        },
        "id": "c011f422",
        "outputId": "65bb2fca-500f-4cbf-d0d9-ecfec67d820a"
      },
      "outputs": [
        {
          "output_type": "stream",
          "name": "stdout",
          "text": [
            "Radians: [0.         0.52359878 0.78539816 1.04719755 1.57079633]\n",
            "Sin values: [0.         0.5        0.70710678 0.8660254  1.        ]\n"
          ]
        }
      ],
      "source": [
        "# 🖊️ TODO: given degrees [0,30,45,60,90], compute radians and sin values.\n",
        "degrees = np.array([0, 30, 45, 60, 90])\n",
        "radians = np.deg2rad(degrees)\n",
        "sin_values = np.sin(radians)\n",
        "print(\"Radians:\", radians)\n",
        "print(\"Sin values:\", sin_values)\n"
      ]
    },
    {
      "cell_type": "markdown",
      "id": "7c9a5d70",
      "metadata": {
        "id": "7c9a5d70"
      },
      "source": [
        "## <a name='broadcast'></a>8️⃣ Broadcasting Rules"
      ]
    },
    {
      "cell_type": "markdown",
      "id": "aba2764d",
      "metadata": {
        "id": "aba2764d"
      },
      "source": [
        "Rules: compare dimensions from right → left; stretch size 1 dims; mismatch error."
      ]
    },
    {
      "cell_type": "code",
      "execution_count": 139,
      "id": "6313899c",
      "metadata": {
        "colab": {
          "base_uri": "https://localhost:8080/"
        },
        "id": "6313899c",
        "outputId": "14d4117e-36c4-4c80-cb44-0df81c6e3595"
      },
      "outputs": [
        {
          "output_type": "stream",
          "name": "stdout",
          "text": [
            "[[0 1 2 3 4]\n",
            " [1 2 3 4 5]\n",
            " [2 3 4 5 6]]\n"
          ]
        }
      ],
      "source": [
        "row = np.arange(5)\n",
        "col = np.arange(3).reshape(3,1)\n",
        "matrix = row + col  # broadcast to 3×5\n",
        "print(matrix)\n"
      ]
    },
    {
      "cell_type": "code",
      "execution_count": 140,
      "id": "de718119",
      "metadata": {
        "colab": {
          "base_uri": "https://localhost:8080/"
        },
        "id": "de718119",
        "outputId": "b23c2c1f-6cdc-4300-8ce8-cf05ba331450"
      },
      "outputs": [
        {
          "output_type": "stream",
          "name": "stdout",
          "text": [
            "Multiplication table:\n",
            " [[  1   2   3   4   5   6   7   8   9  10]\n",
            " [  2   4   6   8  10  12  14  16  18  20]\n",
            " [  3   6   9  12  15  18  21  24  27  30]\n",
            " [  4   8  12  16  20  24  28  32  36  40]\n",
            " [  5  10  15  20  25  30  35  40  45  50]\n",
            " [  6  12  18  24  30  36  42  48  54  60]\n",
            " [  7  14  21  28  35  42  49  56  63  70]\n",
            " [  8  16  24  32  40  48  56  64  72  80]\n",
            " [  9  18  27  36  45  54  63  72  81  90]\n",
            " [ 10  20  30  40  50  60  70  80  90 100]]\n"
          ]
        }
      ],
      "source": [
        "# 🖊️ TODO: use broadcasting to create a 10×10 multiplication table.\n",
        "table = np.arange(1, 11).reshape(10,1) * np.arange(1, 11)\n",
        "print(\"Multiplication table:\\n\", table)\n"
      ]
    },
    {
      "cell_type": "markdown",
      "id": "38a618c8",
      "metadata": {
        "id": "38a618c8"
      },
      "source": [
        "## <a name='stats'></a>9️⃣ Statistics & Aggregations"
      ]
    },
    {
      "cell_type": "code",
      "execution_count": 141,
      "id": "af9ac70d",
      "metadata": {
        "colab": {
          "base_uri": "https://localhost:8080/"
        },
        "id": "af9ac70d",
        "outputId": "7aa629fd-866d-4d92-f12a-3aaa076b0d62"
      },
      "outputs": [
        {
          "output_type": "stream",
          "name": "stdout",
          "text": [
            "data\n",
            " [[85 64 51 27]\n",
            " [31  5  8  2]\n",
            " [18 81 65 91]\n",
            " [50 61 97 73]\n",
            " [63 54 56 93]]\n",
            "row sums [227  46 255 281 266]\n",
            "col means [49.4 53.  55.4 57.2]\n"
          ]
        }
      ],
      "source": [
        "data = np.random.default_rng(0).integers(1, 100, size=(5,4))\n",
        "print('data\\n', data)\n",
        "print('row sums', data.sum(axis=1))\n",
        "print('col means', data.mean(axis=0))\n"
      ]
    },
    {
      "cell_type": "code",
      "execution_count": 142,
      "id": "63adf5be",
      "metadata": {
        "colab": {
          "base_uri": "https://localhost:8080/"
        },
        "id": "63adf5be",
        "outputId": "d6370053-e879-430f-804c-80fc993d0183"
      },
      "outputs": [
        {
          "output_type": "stream",
          "name": "stdout",
          "text": [
            "25th, 50th, 75th percentiles: [30.  58.5 75. ]\n"
          ]
        }
      ],
      "source": [
        "# 🖊️ TODO: compute `np.percentile` (25th, 50th, 75th) of flattened `data`.\n",
        "percentiles = np.percentile(data, [25, 50, 75])\n",
        "print(\"25th, 50th, 75th percentiles:\", percentiles)\n"
      ]
    },
    {
      "cell_type": "markdown",
      "id": "8f3c00d7",
      "metadata": {
        "id": "8f3c00d7"
      },
      "source": [
        "## <a name='random'></a>🔟 Random Numbers & Reproducibility"
      ]
    },
    {
      "cell_type": "code",
      "execution_count": 143,
      "id": "98016975",
      "metadata": {
        "colab": {
          "base_uri": "https://localhost:8080/"
        },
        "id": "98016975",
        "outputId": "43908039-3435-4972-f04f-5dc6ffeb1af7"
      },
      "outputs": [
        {
          "output_type": "stream",
          "name": "stdout",
          "text": [
            "[0.77395605 0.43887844 0.85859792 0.69736803 0.09417735] [31 49 39 40 38]\n"
          ]
        }
      ],
      "source": [
        "rng = np.random.default_rng(42)\n",
        "rand_floats = rng.random(5)\n",
        "rand_ints = rng.integers(low=10, high=50, size=5)\n",
        "print(rand_floats, rand_ints)\n",
        "rng2 = np.random.default_rng(42)\n",
        "assert np.allclose(rand_floats, rng2.random(5))\n"
      ]
    },
    {
      "cell_type": "code",
      "execution_count": 144,
      "id": "35dbadba",
      "metadata": {
        "colab": {
          "base_uri": "https://localhost:8080/"
        },
        "id": "35dbadba",
        "outputId": "9fb87b09-e509-48d0-e082-7328d3ab8da2"
      },
      "outputs": [
        {
          "output_type": "stream",
          "name": "stdout",
          "text": [
            "Proportion of 6s: 0.12\n"
          ]
        }
      ],
      "source": [
        "# 🖊️ TODO: simulate rolling a fair six‑sided die 100 times; estimate proportion of 6s.\n",
        "rolls = rng.integers(1, 7, size=100)\n",
        "prop_six = np.mean(rolls == 6)\n",
        "print(\"Proportion of 6s:\", prop_six)\n"
      ]
    },
    {
      "cell_type": "markdown",
      "id": "6cdb04b2",
      "metadata": {
        "id": "6cdb04b2"
      },
      "source": [
        "## <a name='structured'></a>1️⃣1️⃣ Structured / Record Arrays"
      ]
    },
    {
      "cell_type": "code",
      "execution_count": 145,
      "id": "d8f64e42",
      "metadata": {
        "colab": {
          "base_uri": "https://localhost:8080/"
        },
        "id": "d8f64e42",
        "outputId": "d8a69dba-19a4-4371-9a4c-14a59e3f2ee1"
      },
      "outputs": [
        {
          "output_type": "stream",
          "name": "stdout",
          "text": [
            "['Alice' 'Bob'] 27.5\n"
          ]
        }
      ],
      "source": [
        "people = np.array([('Alice', 25, 55.0), ('Bob', 30, 85.5)],\n",
        "                   dtype=[('name','U10'), ('age','i4'), ('weight','f4')])\n",
        "print(people['name'], people['age'].mean())\n"
      ]
    },
    {
      "cell_type": "code",
      "execution_count": 146,
      "id": "7a65fe1d",
      "metadata": {
        "colab": {
          "base_uri": "https://localhost:8080/"
        },
        "id": "7a65fe1d",
        "outputId": "ac6d1321-0959-4f9b-e962-369d65e8fe77"
      },
      "outputs": [
        {
          "output_type": "stream",
          "name": "stdout",
          "text": [
            "[('Alice', 25, 55. , 165.) ('Bob', 30, 85.5, 180.)]\n"
          ]
        }
      ],
      "source": [
        "# 🖊️ TODO: add a new field 'height' to the structured array using `np.lib.recfunctions.append_fields` (hint: pip install?).\n",
        "!pip install numpy --quiet\n",
        "from numpy.lib import recfunctions as rfn\n",
        "heights = np.array([165.0, 180.0])\n",
        "people_with_height = rfn.append_fields(people, 'height', heights, usemask=False)\n",
        "print(people_with_height)\n"
      ]
    },
    {
      "cell_type": "markdown",
      "id": "df5b617b",
      "metadata": {
        "id": "df5b617b"
      },
      "source": [
        "## <a name='linalg'></a>1️⃣2️⃣ Linear Algebra Essentials"
      ]
    },
    {
      "cell_type": "code",
      "execution_count": 147,
      "id": "3f7fb475",
      "metadata": {
        "colab": {
          "base_uri": "https://localhost:8080/"
        },
        "id": "3f7fb475",
        "outputId": "820b8326-9694-4ff2-9126-75b82ce6a7d0"
      },
      "outputs": [
        {
          "output_type": "stream",
          "name": "stdout",
          "text": [
            "A·x ≈ b? True\n"
          ]
        }
      ],
      "source": [
        "A = np.random.random((3,3))\n",
        "b = np.random.random(3)\n",
        "x = np.linalg.solve(A, b)\n",
        "print('A·x ≈ b?', np.allclose(A.dot(x), b))\n"
      ]
    },
    {
      "cell_type": "code",
      "execution_count": 148,
      "id": "a8fb02d7",
      "metadata": {
        "colab": {
          "base_uri": "https://localhost:8080/"
        },
        "id": "a8fb02d7",
        "outputId": "12d8f653-c97e-434e-c44e-2c1e2fa00476"
      },
      "outputs": [
        {
          "output_type": "stream",
          "name": "stdout",
          "text": [
            "Eigenvalues: [ 1.82532533 -0.53405029  0.13239564]\n"
          ]
        }
      ],
      "source": [
        "# 🖊️ TODO: compute eigenvalues of `A` using `np.linalg.eig`.\n",
        "eigvals, eigvecs = np.linalg.eig(A)\n",
        "print(\"Eigenvalues:\", eigvals)\n"
      ]
    },
    {
      "cell_type": "markdown",
      "id": "e8fd753c",
      "metadata": {
        "id": "e8fd753c"
      },
      "source": [
        "## <a name='io'></a>1️⃣3️⃣ File I/O (`npy`, `npz`, `txt`)"
      ]
    },
    {
      "cell_type": "code",
      "execution_count": 149,
      "id": "bd6dc026",
      "metadata": {
        "colab": {
          "base_uri": "https://localhost:8080/"
        },
        "id": "bd6dc026",
        "outputId": "2f39fb7f-f4ec-44a8-fbdf-82f3c19a0ce8"
      },
      "outputs": [
        {
          "output_type": "stream",
          "name": "stdout",
          "text": [
            "loaded equals A? True\n"
          ]
        }
      ],
      "source": [
        "np.save('array.npy', A)\n",
        "loaded = np.load('array.npy')\n",
        "print('loaded equals A?', np.allclose(loaded, A))\n",
        "np.savez('multi_arrays.npz', A=A, b=b)\n"
      ]
    },
    {
      "cell_type": "code",
      "execution_count": 150,
      "id": "d9552893",
      "metadata": {
        "colab": {
          "base_uri": "https://localhost:8080/"
        },
        "id": "d9552893",
        "outputId": "2e8ff164-6c48-4836-d25d-d84a6b70eb15"
      },
      "outputs": [
        {
          "output_type": "stream",
          "name": "stdout",
          "text": [
            "Loaded CSV equals data? True\n"
          ]
        }
      ],
      "source": [
        "# 🖊️ TODO: Use `np.savetxt` to write `data` (from stats section) to CSV then reload with `np.loadtxt`.\n",
        "np.savetxt('data.csv', data, delimiter=',', fmt='%d')\n",
        "loaded_csv = np.loadtxt('data.csv', delimiter=',', dtype=int)\n",
        "print(\"Loaded CSV equals data?\", np.array_equal(loaded_csv, data))\n"
      ]
    },
    {
      "cell_type": "markdown",
      "id": "f24f33e3",
      "metadata": {
        "id": "f24f33e3"
      },
      "source": [
        "## <a name='datetime'></a>1️⃣4️⃣ Datetime64 & Timedelta64"
      ]
    },
    {
      "cell_type": "code",
      "execution_count": 151,
      "id": "3ce7b543",
      "metadata": {
        "colab": {
          "base_uri": "https://localhost:8080/"
        },
        "id": "3ce7b543",
        "outputId": "59fee40d-99bc-4f11-ad88-8bd692dd5d4c"
      },
      "outputs": [
        {
          "output_type": "stream",
          "name": "stdout",
          "text": [
            "['2023-01-01' '2023-01-02' '2023-01-03' '2023-01-04' '2023-01-05'] 1 days\n"
          ]
        }
      ],
      "source": [
        "dates = np.arange('2023-01', '2023-04', dtype='datetime64[D]')\n",
        "delta = dates[1:] - dates[:-1]\n",
        "print(dates[:5], delta[0])\n"
      ]
    },
    {
      "cell_type": "code",
      "execution_count": 152,
      "id": "e493d6f8",
      "metadata": {
        "colab": {
          "base_uri": "https://localhost:8080/"
        },
        "id": "e493d6f8",
        "outputId": "0b7b4cef-8e7c-4fc0-dbd6-cd09a3b4152f"
      },
      "outputs": [
        {
          "output_type": "stream",
          "name": "stdout",
          "text": [
            "Number of Mondays: 13\n"
          ]
        }
      ],
      "source": [
        "# 🖊️ TODO: find how many Mondays appear in `dates` array.\n",
        "mondays = np.sum(dates.astype('datetime64[D]').view('int64') % 7 == 0)\n",
        "print(\"Number of Mondays:\", mondays)\n"
      ]
    },
    {
      "cell_type": "markdown",
      "id": "636116b9",
      "metadata": {
        "id": "636116b9"
      },
      "source": [
        "## <a name='mask'></a>1️⃣5️⃣ Masked Arrays & NaNs"
      ]
    },
    {
      "cell_type": "code",
      "execution_count": 153,
      "id": "ec30b3ee",
      "metadata": {
        "colab": {
          "base_uri": "https://localhost:8080/"
        },
        "id": "ec30b3ee",
        "outputId": "ea91db77-6d39-43e7-e3ba-515b79a5ba01"
      },
      "outputs": [
        {
          "output_type": "stream",
          "name": "stdout",
          "text": [
            "2.3333333333333335\n"
          ]
        }
      ],
      "source": [
        "arr = np.array([1, 2, np.nan, 4, np.nan])\n",
        "masked = np.ma.masked_invalid(arr)\n",
        "print(masked.mean())\n"
      ]
    },
    {
      "cell_type": "code",
      "execution_count": 154,
      "id": "1ead3a9c",
      "metadata": {
        "colab": {
          "base_uri": "https://localhost:8080/"
        },
        "id": "1ead3a9c",
        "outputId": "fa77ff4d-8011-4e65-ec7f-f0cc87c896b3"
      },
      "outputs": [
        {
          "output_type": "stream",
          "name": "stdout",
          "text": [
            "[[1.  6.5 3. ]\n",
            " [4.  5.  6. ]\n",
            " [7.  8.  9. ]]\n"
          ]
        }
      ],
      "source": [
        "# 🖊️ TODO: replace NaNs with column means in a 2‑D array containing NaNs.\n",
        "arr2d = np.array([[1, np.nan, 3],\n",
        "                  [4, 5, np.nan],\n",
        "                  [7, 8, 9]], dtype=float)\n",
        "col_means = np.nanmean(arr2d, axis=0)\n",
        "inds = np.where(np.isnan(arr2d))\n",
        "arr2d[inds] = np.take(col_means, inds[1])\n",
        "print(arr2d)\n"
      ]
    },
    {
      "cell_type": "markdown",
      "id": "509e6104",
      "metadata": {
        "id": "509e6104"
      },
      "source": [
        "## <a name='project'></a>1️⃣6️⃣ Mini‑Project: Fitness Data Analysis"
      ]
    },
    {
      "cell_type": "markdown",
      "id": "d867d3a6",
      "metadata": {
        "id": "d867d3a6"
      },
      "source": [
        "Load `fitness.txt` (tab‑separated) then follow prompts."
      ]
    },
    {
      "cell_type": "code",
      "execution_count": 155,
      "id": "593e50db",
      "metadata": {
        "colab": {
          "base_uri": "https://localhost:8080/"
        },
        "id": "593e50db",
        "outputId": "9ba1b75a-2d6b-47ad-888d-0bcbaf35a517"
      },
      "outputs": [
        {
          "output_type": "stream",
          "name": "stdout",
          "text": [
            "columns: ('date', 'step_count', 'mood', 'calories_burned', 'hours_of_sleep', 'bool_of_active', 'weight_kg') rows: 96\n"
          ]
        }
      ],
      "source": [
        "fitness = np.genfromtxt('fitness.txt', delimiter='\\t', dtype=None, encoding=None, names=True)\n",
        "print('columns:', fitness.dtype.names, 'rows:', len(fitness))\n"
      ]
    },
    {
      "cell_type": "code",
      "source": [
        "from google.colab import drive\n",
        "drive.mount('/content/drive')"
      ],
      "metadata": {
        "colab": {
          "base_uri": "https://localhost:8080/"
        },
        "id": "K2XYd2bzAjjw",
        "outputId": "a64dedb0-7d4d-486a-a439-5bc257804776"
      },
      "id": "K2XYd2bzAjjw",
      "execution_count": 156,
      "outputs": [
        {
          "output_type": "stream",
          "name": "stdout",
          "text": [
            "Drive already mounted at /content/drive; to attempt to forcibly remount, call drive.mount(\"/content/drive\", force_remount=True).\n"
          ]
        }
      ]
    },
    {
      "cell_type": "code",
      "execution_count": 158,
      "id": "32e514d2",
      "metadata": {
        "colab": {
          "base_uri": "https://localhost:8080/"
        },
        "id": "32e514d2",
        "outputId": "ebb11f62-6efd-4082-e356-bec00f29226a"
      },
      "outputs": [
        {
          "output_type": "stream",
          "name": "stdout",
          "text": [
            "Month 01-01-2: Total steps = 299\n",
            "Month 01-11-2: Total steps = 4435\n",
            "Month 01-12-2: Total steps = 774\n",
            "Month 02-01-2: Total steps = 1447\n",
            "Month 02-11-2: Total steps = 4779\n",
            "Month 02-12-2: Total steps = 1421\n",
            "Month 03-01-2: Total steps = 2599\n",
            "Month 03-11-2: Total steps = 1831\n",
            "Month 03-12-2: Total steps = 4064\n",
            "Month 04-01-2: Total steps = 702\n",
            "Month 04-11-2: Total steps = 2255\n",
            "Month 04-12-2: Total steps = 2725\n",
            "Month 05-01-2: Total steps = 133\n",
            "Month 05-11-2: Total steps = 539\n",
            "Month 05-12-2: Total steps = 5934\n",
            "Month 06-01-2: Total steps = 153\n",
            "Month 06-10-2: Total steps = 5464\n",
            "Month 06-11-2: Total steps = 5464\n",
            "Month 06-12-2: Total steps = 1867\n",
            "Month 07-01-2: Total steps = 500\n",
            "Month 07-10-2: Total steps = 6041\n",
            "Month 07-11-2: Total steps = 6041\n",
            "Month 07-12-2: Total steps = 3721\n",
            "Month 08-01-2: Total steps = 2127\n",
            "Month 08-10-2: Total steps = 25\n",
            "Month 08-11-2: Total steps = 4068\n",
            "Month 08-12-2: Total steps = 2374\n",
            "Month 09-01-2: Total steps = 2203\n",
            "Month 09-10-2: Total steps = 5461\n",
            "Month 09-11-2: Total steps = 4683\n",
            "Month 09-12-2: Total steps = 2909\n",
            "Month 10-10-2: Total steps = 6915\n",
            "Month 10-11-2: Total steps = 4033\n",
            "Month 10-12-2: Total steps = 1648\n",
            "Month 11-10-2: Total steps = 4545\n",
            "Month 11-11-2: Total steps = 6314\n",
            "Month 11-12-2: Total steps = 799\n",
            "Month 12-10-2: Total steps = 4340\n",
            "Month 12-11-2: Total steps = 614\n",
            "Month 12-12-2: Total steps = 7102\n",
            "Month 13-10-2: Total steps = 1230\n",
            "Month 13-11-2: Total steps = 3149\n",
            "Month 13-12-2: Total steps = 3941\n",
            "Month 14-10-2: Total steps = 61\n",
            "Month 14-11-2: Total steps = 4005\n",
            "Month 14-12-2: Total steps = 7422\n",
            "Month 15-10-2: Total steps = 1258\n",
            "Month 15-11-2: Total steps = 4880\n",
            "Month 15-12-2: Total steps = 437\n",
            "Month 16-10-2: Total steps = 3148\n",
            "Month 16-11-2: Total steps = 4136\n",
            "Month 16-12-2: Total steps = 1231\n",
            "Month 17-10-2: Total steps = 4687\n",
            "Month 17-11-2: Total steps = 705\n",
            "Month 17-12-2: Total steps = 1696\n",
            "Month 18-10-2: Total steps = 4732\n",
            "Month 18-11-2: Total steps = 570\n",
            "Month 18-12-2: Total steps = 4921\n",
            "Month 19-10-2: Total steps = 3519\n",
            "Month 19-11-2: Total steps = 269\n",
            "Month 19-12-2: Total steps = 221\n",
            "Month 20-10-2: Total steps = 1580\n",
            "Month 20-11-2: Total steps = 4275\n",
            "Month 20-12-2: Total steps = 6500\n",
            "Month 21-10-2: Total steps = 2822\n",
            "Month 21-11-2: Total steps = 5999\n",
            "Month 21-12-2: Total steps = 3575\n",
            "Month 22-10-2: Total steps = 181\n",
            "Month 22-11-2: Total steps = 4421\n",
            "Month 22-12-2: Total steps = 4061\n",
            "Month 23-10-2: Total steps = 3158\n",
            "Month 23-11-2: Total steps = 6930\n",
            "Month 23-12-2: Total steps = 651\n",
            "Month 24-10-2: Total steps = 4383\n",
            "Month 24-11-2: Total steps = 5195\n",
            "Month 24-12-2: Total steps = 753\n",
            "Month 25-10-2: Total steps = 3881\n",
            "Month 25-11-2: Total steps = 546\n",
            "Month 25-12-2: Total steps = 518\n",
            "Month 26-10-2: Total steps = 4037\n",
            "Month 26-11-2: Total steps = 493\n",
            "Month 26-12-2: Total steps = 5537\n",
            "Month 27-10-2: Total steps = 202\n",
            "Month 27-11-2: Total steps = 995\n",
            "Month 27-12-2: Total steps = 4108\n",
            "Month 28-10-2: Total steps = 292\n",
            "Month 28-11-2: Total steps = 1163\n",
            "Month 28-12-2: Total steps = 5376\n",
            "Month 29-10-2: Total steps = 330\n",
            "Month 29-11-2: Total steps = 6676\n",
            "Month 29-12-2: Total steps = 3066\n",
            "Month 30-10-2: Total steps = 2209\n",
            "Month 30-11-2: Total steps = 3608\n",
            "Month 30-12-2: Total steps = 177\n",
            "Month 31-10-2: Total steps = 4550\n",
            "Month 31-12-2: Total steps = 36\n",
            "Sleep vs mood correlation: 0.2104166644730015\n",
            "Week 2017-10-05: Avg steps = 4741.833333333333\n",
            "Week 2017-10-12: Avg steps = 2779.4285714285716\n",
            "Week 2017-10-19: Avg steps = 2789.1428571428573\n",
            "Week 2017-10-26: Avg steps = 2293.5714285714284\n",
            "Week 2017-11-02: Avg steps = 3568.1428571428573\n",
            "Week 2017-11-09: Avg steps = 3954.0\n",
            "Week 2017-11-16: Avg steps = 2910.714285714286\n",
            "Week 2017-11-23: Avg steps = 3142.5714285714284\n",
            "Week 2017-11-30: Avg steps = 2913.285714285714\n",
            "Week 2017-12-07: Avg steps = 3213.4285714285716\n",
            "Week 2017-12-14: Avg steps = 3204.0\n",
            "Week 2017-12-21: Avg steps = 2743.285714285714\n",
            "Week 2017-12-28: Avg steps = 1857.142857142857\n",
            "Week 2018-01-04: Avg steps = 969.6666666666666\n"
          ]
        }
      ],
      "source": [
        "# 🖊️ TODO: Monthly step count, sleep vs mood correlation, weekly summary, etc.\n",
        "months = np.array([d[:7] for d in fitness['date']])\n",
        "unique_months = np.unique(months)\n",
        "for m in unique_months:\n",
        "    total_steps = fitness['step_count'][months == m].sum()\n",
        "    print(f\"Month {m}: Total steps = {total_steps}\")\n",
        "\n",
        "sleep_mood_corr = np.corrcoef(fitness['hours_of_sleep'], fitness['mood'])[0,1]\n",
        "print(\"Sleep vs mood correlation:\", sleep_mood_corr)\n",
        "\n",
        "# Weekly summary\n",
        "import pandas as pd\n",
        "dates_pd = pd.to_datetime(fitness['date'], format=\"%d-%m-%Y\")\n",
        "weeks = dates_pd.values.astype('datetime64[W]')\n",
        "unique_weeks = np.unique(weeks)\n",
        "for w in unique_weeks:\n",
        "    avg_steps = fitness['step_count'][weeks == w].mean()\n",
        "    print(f\"Week {w}: Avg steps = {avg_steps}\")"
      ]
    },
    {
      "cell_type": "markdown",
      "id": "e7c0e1dc",
      "metadata": {
        "id": "e7c0e1dc"
      },
      "source": [
        "## <a name='conclusion'></a>1️⃣7️⃣ Conclusion & Further Practice\n",
        "Congrats on covering **all core NumPy topics** from your five lecture notebooks!\n",
        "\n",
        "*Keep experimenting, read the official docs, and try converting your NumPy pipelines into Pandas or JAX for more fun.*"
      ]
    }
  ],
  "metadata": {
    "colab": {
      "provenance": []
    },
    "language_info": {
      "name": "python"
    },
    "kernelspec": {
      "name": "python3",
      "display_name": "Python 3"
    }
  },
  "nbformat": 4,
  "nbformat_minor": 5
}